{
  "nbformat": 4,
  "nbformat_minor": 0,
  "metadata": {
    "colab": {
      "provenance": []
    },
    "kernelspec": {
      "name": "python3",
      "display_name": "Python 3"
    },
    "language_info": {
      "name": "python"
    }
  },
  "cells": [
    {
      "cell_type": "code",
      "execution_count": null,
      "metadata": {
        "id": "yTS4vL6jdCtz"
      },
      "outputs": [],
      "source": []
    },
    {
      "cell_type": "markdown",
      "source": [
        "**OOPS Assignment**\n"
      ],
      "metadata": {
        "id": "Vn-unmCWdFhb"
      }
    },
    {
      "cell_type": "markdown",
      "source": [
        "1.What is Object-Oriented Programming (OOP)?\n",
        " - Object-Oriented Programming (OOP) is a programming paradigm that organizes and designs software using the concept of \"objects.\" These objects are instances of classes, which act as blueprints for creating and managing data and behavior.\n",
        "\n",
        " 2.What is a class in OOP?\n",
        "  - A class in Object-Oriented Programming (OOP) is a blueprint or template for creating objects.\n",
        "\n",
        "  3.What is an object in OOP?\n",
        "   - An object in Object-Oriented Programming (OOP) is an instance of a class. It represents a specific entity that has attributes (data or state) and behaviors (methods or functions) defined by the class from which it is created.\n",
        "\n",
        "   4.What is the difference between abstraction and encapsulation?\n",
        "    - Abstraction focuses on hiding the complex implementation details of a system and exposing only the essential features or functionality to the user.\n",
        "\n",
        "   Encapsulation is the bundling of data (attributes) and methods (functions) that operate on the data into a single unit, and it restricts direct access to some of an object's components.\n",
        "\n",
        "   5.What are dunder methods in Python?\n",
        "    - Dunder methods in Python are special methods with names that begin and end with double underscores, like __init__ , __str__ , or __add__\n",
        "\n",
        "   6.Explain the concept of inheritance in OOP.\n",
        "    - Inheritance is a feature in Object-Oriented Programming that allows a class (child or subclass) to inherit attributes and methods from another class (parent or superclass). It promotes code reuse and establishes a hierarchical relationship between classes.\n",
        "\n",
        "  7.What is polymorphism in OOP?\n",
        "   - Polymorphism in OOP means \"many forms.\" It allows objects of different classes to be treated as objects of a common superclass. It enables the same interface to be used for different underlying forms (data types).\n",
        "\n",
        "   8.How is encapsulation achieved in Python?\n",
        "    - Encapsulation is achieved in Python by restricting access to certain attributes and methods of a class and exposing only the essential parts via public methods.\n",
        "\n",
        "  9.What is a constructor in Python?\n",
        "   - A constructor in Python is a special method (__init__) used to initialize an object's attributes when the object is created.\n",
        "\n",
        "   10.What are class and static methods in Python?\n",
        "    - A class method is a method that is bound to the class rather than its instances. It can access and modify the class state or variables, but it does not have access to instance-specific data.\n",
        "\n",
        "  A static method is a method that does not depend on class or instance state. It behaves like a regular function but is included in the class's namespace for organizational purposes.\n",
        "\n",
        "  11.What is method overloading in Python?\n",
        "   - Method overloading allows multiple methods with the same name but different arguments.\n",
        "\n",
        "   12.What is method overriding in OOP?\n",
        "    - Method overriding occurs when a subclass provides a specific implementation of a method already defined in its superclass. The overriding method in the child class has the same name, return type, and parameters as the method in the parent class.\n",
        "\n",
        "  13.What is a property decorator in Python?\n",
        "   - The property decorator in Python allows you to define a method as a getter, enabling you to access it like an attribute. It is used to implement controlled access to an instance's attributes while maintaining a clean syntax.\n",
        "\n",
        "   14.Why is polymorphism important in OOP?\n",
        "    - Polymorphism is important because it enhances flexibility, reusability, and maintainability in code. It allows objects of different classes to be treated uniformly if they share a common interface.\n",
        "\n",
        "  15.What is an abstract class in Python?\n",
        "   - An abstract class in Python is a class that cannot be instantiated directly and is used as a blueprint for other classes. Abstract classes can contain abstract methods (methods without implementation) and concrete methods.\n",
        "\n",
        "   16.What are the advantages of OOP?\n",
        "    - The advantages of OOPS are modularity,reusability,scalability,encapsulation,abstraction,flexibility.\n",
        "\n",
        "  17.What is the difference between a class variable and an instance variable?\n",
        "   - A class variable is shared among all instances of the class. It is defined within the class but outside any instance methods.\n",
        "\n",
        "   An instance variable is specific to a particular instance of the class. It is defined within the constructor (__init__) or other instance methods using self.\n",
        "\n",
        "   18.What is multiple inheritance in Python?\n",
        "    - Multiple inheritance in Python is a feature that allows a class to inherit attributes and methods from more than one parent class. This means that a derived class can have multiple base classes, enabling it to combine behaviors and properties from all of them.\n",
        "\n",
        "  19.Explain the purpose of ''__str__' and '__repr__'' methods in Python.\n",
        "   - __str__ : this method is provide user friendly string representation of an object.\n",
        "\n",
        "   __repr__ : this method is provide an \"official\" string representation of an object that can ideally be used to recreate the object.\n",
        "\n",
        "   20.What is the significance of the ‘super()’ function in Python?\n",
        "    - The super() function is used to call methods from a parent class in a derived class. It allows you to access inherited methods that have been overridden in a child class. This is particularly useful in multiple inheritance scenarios, as it helps to ensure that the correct method resolution order is followed.\n",
        "\n",
        "  21.What is the significance of the __del__ method in Python?\n",
        "   - The __del__ method is a destructor in Python. It is called when an object is about to be destroyed, allowing you to define cleanup actions, such as closing files or releasing resources. However, its use is generally discouraged because the timing of its execution is not guaranteed, especially in the presence of circular references.\n",
        "\n",
        "   22.What is the difference between @staticmethod and @classmethod in Python?\n",
        "    - @staticmethod : This decorator is used to define a method that does not require access to the instance (self) or the class (cls). It behaves like a regular function but belongs to the class's namespace.\n",
        "\n",
        "  @classmethod : This decorator is used to define a method that takes the class as its first argument (cls). It can access class variables and methods, making it useful for factory methods or methods that need to modify class state.\n",
        "\n",
        "  23.How does polymorphism work in Python with inheritance?\n",
        "   - Polymorphism in Python allows methods to be used interchangeably across different classes. When a derived class overrides a method from a base class, you can call that method on an instance of the derived class, and Python will execute the overridden method. This allows for flexibility and the ability to write code that can work with objects of different classes in a uniform way.\n",
        "\n",
        "   24.What is method chaining in Python OOP?\n",
        "    - Method chaining is a technique where multiple method calls are made on the same object in a single statement. This is achieved by having each method return the object itself (usually self). It allows for more concise and readable code.\n",
        "\n",
        "  25.What is the purpose of the __call__ method in Python?\n",
        "   - The purpose of the __call__ method are : function like object , encapsulation of state , custom behavior.\n",
        "   "
      ],
      "metadata": {
        "id": "JfumkPkVdPyU"
      }
    },
    {
      "cell_type": "code",
      "source": [
        "# practical question 1\n",
        "# Define the parent class Animal\n",
        "class Animal:\n",
        "    def speak(self):\n",
        "        print(\"The animal makes a sound.\")\n",
        "\n",
        "# Define the child class Dog\n",
        "class Dog(Animal):\n",
        "    def speak(self):\n",
        "        print(\"Bark!\")\n",
        "\n",
        "# Example usage\n",
        "if __name__ == \"__main__\":\n",
        "    generic_animal = Animal()\n",
        "    generic_animal.speak()  # Output: The animal makes a sound.\n",
        "\n",
        "    dog = Dog()\n",
        "    dog.speak()\n"
      ],
      "metadata": {
        "colab": {
          "base_uri": "https://localhost:8080/"
        },
        "id": "Zdiaoo_QpeNu",
        "outputId": "2df63530-8b29-4e06-f659-750e7bc311b0"
      },
      "execution_count": 1,
      "outputs": [
        {
          "output_type": "stream",
          "name": "stdout",
          "text": [
            "The animal makes a sound.\n",
            "Bark!\n"
          ]
        }
      ]
    },
    {
      "cell_type": "markdown",
      "source": [],
      "metadata": {
        "id": "xpU1roT4dK3c"
      }
    },
    {
      "cell_type": "code",
      "source": [
        "# practical question 2\n",
        "from abc import ABC, abstractmethod\n",
        "import math\n",
        "\n",
        "# Abstract class Shape\n",
        "class Shape(ABC):\n",
        "    @abstractmethod\n",
        "    def area(self):\n",
        "        pass\n",
        "\n",
        "# Derived class Circle\n",
        "class Circle(Shape):\n",
        "    def __init__(self, radius):\n",
        "        self.radius = radius\n",
        "\n",
        "    def area(self):\n",
        "        return math.pi * self.radius * self.radius  # Area of circle = πr²\n",
        "\n",
        "# Derived class Rectangle\n",
        "class Rectangle(Shape):\n",
        "    def __init__(self, width, height):\n",
        "        self.width = width\n",
        "        self.height = height\n",
        "\n",
        "    def area(self):\n",
        "        return self.width * self.height  # Area of rectangle = width * height\n",
        "\n",
        "# Creating objects of Circle and Rectangle\n",
        "circle = Circle(5)\n",
        "rectangle = Rectangle(4, 6)\n",
        "\n",
        "# Displaying areas\n",
        "print(f\"Area of Circle: {circle.area():.2f}\")\n",
        "print(f\"Area of Rectangle: {rectangle.area()}\")\n"
      ],
      "metadata": {
        "colab": {
          "base_uri": "https://localhost:8080/"
        },
        "id": "WxaYyBz8qNVp",
        "outputId": "50fcfb13-be06-44bd-b15f-e30aab6ee643"
      },
      "execution_count": 2,
      "outputs": [
        {
          "output_type": "stream",
          "name": "stdout",
          "text": [
            "Area of Circle: 78.54\n",
            "Area of Rectangle: 24\n"
          ]
        }
      ]
    },
    {
      "cell_type": "code",
      "source": [
        "# practical question 3\n",
        "# Base class Vehicle\n",
        "class Vehicle:\n",
        "    def __init__(self, vehicle_type):\n",
        "        self.type = vehicle_type\n",
        "\n",
        "    def display_type(self):\n",
        "        print(f\"Vehicle Type: {self.type}\")\n",
        "\n",
        "# Derived class Car\n",
        "class Car(Vehicle):\n",
        "    def __init__(self, vehicle_type, model):\n",
        "        super().__init__(vehicle_type)  # Initialize the parent class\n",
        "        self.model = model\n",
        "\n",
        "    def display_model(self):\n",
        "        print(f\"Car Model: {self.model}\")\n",
        "\n",
        "# Derived class ElectricCar (further inherits from Car)\n",
        "class ElectricCar(Car):\n",
        "    def __init__(self, vehicle_type, model, battery_capacity):\n",
        "        super().__init__(vehicle_type, model)  # Initialize the parent class Car\n",
        "        self.battery_capacity = battery_capacity\n",
        "\n",
        "    def display_battery(self):\n",
        "        print(f\"Battery Capacity: {self.battery_capacity} kWh\")\n",
        "\n",
        "# Creating an ElectricCar object\n",
        "electric_car = ElectricCar(\"Electric\", \"Tesla Model S\", 100)\n",
        "\n",
        "# Displaying attributes\n",
        "electric_car.display_type()\n",
        "electric_car.display_model()\n",
        "electric_car.display_battery()\n"
      ],
      "metadata": {
        "colab": {
          "base_uri": "https://localhost:8080/"
        },
        "id": "EpeoWkRlq6Oo",
        "outputId": "d429560d-2ef6-4a38-9188-19ab0ad95f2e"
      },
      "execution_count": 3,
      "outputs": [
        {
          "output_type": "stream",
          "name": "stdout",
          "text": [
            "Vehicle Type: Electric\n",
            "Car Model: Tesla Model S\n",
            "Battery Capacity: 100 kWh\n"
          ]
        }
      ]
    },
    {
      "cell_type": "code",
      "source": [
        "# practical question 4\n",
        "# Base class Vehicle\n",
        "class Vehicle:\n",
        "    def __init__(self, vehicle_type):\n",
        "        self.type = vehicle_type\n",
        "\n",
        "    def display_type(self):\n",
        "        print(f\"Vehicle Type: {self.type}\")\n",
        "\n",
        "# Derived class Car\n",
        "class Car(Vehicle):\n",
        "    def __init__(self, vehicle_type, model):\n",
        "        super().__init__(vehicle_type)  # Initialize the parent class\n",
        "        self.model = model\n",
        "\n",
        "    def display_model(self):\n",
        "        print(f\"Car Model: {self.model}\")\n",
        "\n",
        "# Derived class ElectricCar (inherits from Car)\n",
        "class ElectricCar(Car):\n",
        "    def __init__(self, vehicle_type, model, battery_capacity):\n",
        "        super().__init__(vehicle_type, model)  # Initialize the parent class Car\n",
        "        self.battery_capacity = battery_capacity\n",
        "\n",
        "    def display_battery(self):\n",
        "        print(f\"Battery Capacity: {self.battery_capacity} kWh\")\n",
        "\n",
        "# Creating an instance of ElectricCar\n",
        "electric_car = ElectricCar(\"Electric\", \"Tesla Model S\", 100)\n",
        "\n",
        "# Displaying the attributes\n",
        "electric_car.display_type()\n",
        "electric_car.display_model()\n",
        "electric_car.display_battery()\n"
      ],
      "metadata": {
        "colab": {
          "base_uri": "https://localhost:8080/"
        },
        "id": "zrvVg5XFrXhy",
        "outputId": "132d8e71-3428-496d-b0df-c3235bf71005"
      },
      "execution_count": 4,
      "outputs": [
        {
          "output_type": "stream",
          "name": "stdout",
          "text": [
            "Vehicle Type: Electric\n",
            "Car Model: Tesla Model S\n",
            "Battery Capacity: 100 kWh\n"
          ]
        }
      ]
    },
    {
      "cell_type": "code",
      "source": [
        "# practical question 5\n",
        "class BankAccount:\n",
        "    def __init__(self, initial_balance):\n",
        "        # Private attribute\n",
        "        self.__balance = initial_balance\n",
        "\n",
        "    # Public method to deposit money\n",
        "    def deposit(self, amount):\n",
        "        if amount > 0:\n",
        "            self.__balance += amount\n",
        "            print(f\"Deposited: {amount}\")\n",
        "        else:\n",
        "            print(\"Deposit amount must be positive.\")\n",
        "\n",
        "    # Public method to withdraw money\n",
        "    def withdraw(self, amount):\n",
        "        if amount > 0 and amount <= self.__balance:\n",
        "            self.__balance -= amount\n",
        "            print(f\"Withdrawn: {amount}\")\n",
        "        elif amount > self.__balance:\n",
        "            print(\"Insufficient funds.\")\n",
        "        else:\n",
        "            print(\"Withdrawal amount must be positive.\")\n",
        "\n",
        "    # Public method to check balance\n",
        "    def check_balance(self):\n",
        "        print(f\"Current Balance: {self.__balance}\")\n",
        "\n",
        "# Creating a BankAccount object\n",
        "account = BankAccount(1000)  # Initial balance is 1000\n",
        "\n",
        "# Interacting with the BankAccount object using public methods\n",
        "account.check_balance()\n",
        "account.deposit(500)\n",
        "account.withdraw(300)\n",
        "account.check_balance()\n",
        "account.withdraw(1500)\n"
      ],
      "metadata": {
        "colab": {
          "base_uri": "https://localhost:8080/"
        },
        "id": "8jAo270Ar19o",
        "outputId": "2431ee3a-b4d3-4b8e-dec5-4d841e0085f6"
      },
      "execution_count": 5,
      "outputs": [
        {
          "output_type": "stream",
          "name": "stdout",
          "text": [
            "Current Balance: 1000\n",
            "Deposited: 500\n",
            "Withdrawn: 300\n",
            "Current Balance: 1200\n",
            "Insufficient funds.\n"
          ]
        }
      ]
    },
    {
      "cell_type": "code",
      "source": [
        "# practical question 6\n",
        "# Base class Instrument\n",
        "class Instrument:\n",
        "    def play(self):\n",
        "        print(\"Playing a musical instrument.\")\n",
        "\n",
        "# Derived class Guitar\n",
        "class Guitar(Instrument):\n",
        "    def play(self):\n",
        "        print(\"Playing the Guitar.\")\n",
        "\n",
        "# Derived class Piano\n",
        "class Piano(Instrument):\n",
        "    def play(self):\n",
        "        print(\"Playing the Piano.\")\n",
        "\n",
        "# Creating instances of Guitar and Piano\n",
        "guitar = Guitar()\n",
        "piano = Piano()\n",
        "\n",
        "# Demonstrating runtime polymorphism\n",
        "# Calling the same method play() on both objects,\n",
        "# but each class has its own implementation\n",
        "guitar.play()\n",
        "piano.play()\n"
      ],
      "metadata": {
        "colab": {
          "base_uri": "https://localhost:8080/"
        },
        "id": "LqrhyvVksOq1",
        "outputId": "94f175be-f835-473b-ec45-48cc86c189b6"
      },
      "execution_count": 6,
      "outputs": [
        {
          "output_type": "stream",
          "name": "stdout",
          "text": [
            "Playing the Guitar.\n",
            "Playing the Piano.\n"
          ]
        }
      ]
    },
    {
      "cell_type": "code",
      "source": [
        "# practical question 7\n",
        "class MathOperations:\n",
        "\n",
        "    # Class method to add two numbers\n",
        "    @classmethod\n",
        "    def add_numbers(cls, num1, num2):\n",
        "        return num1 + num2\n",
        "\n",
        "    # Static method to subtract two numbers\n",
        "    @staticmethod\n",
        "    def subtract_numbers(num1, num2):\n",
        "        return num1 - num2\n",
        "\n",
        "\n",
        "# Using the class method and static method\n",
        "# Calling class method using the class name\n",
        "result_addition = MathOperations.add_numbers(10, 5)\n",
        "print(f\"Addition Result: {result_addition}\")\n",
        "\n",
        "# Calling static method using the class name\n",
        "result_subtraction = MathOperations.subtract_numbers(10, 5)\n",
        "print(f\"Subtraction Result: {result_subtraction}\")\n"
      ],
      "metadata": {
        "colab": {
          "base_uri": "https://localhost:8080/"
        },
        "id": "Cya6zsBfsiiV",
        "outputId": "dfc40393-3f4c-48f7-d8ab-974b88d783ed"
      },
      "execution_count": 7,
      "outputs": [
        {
          "output_type": "stream",
          "name": "stdout",
          "text": [
            "Addition Result: 15\n",
            "Subtraction Result: 5\n"
          ]
        }
      ]
    },
    {
      "cell_type": "code",
      "source": [
        "# practical question 8\n",
        "class Person:\n",
        "    # Class variable to count total number of persons\n",
        "    total_persons = 0\n",
        "\n",
        "    def __init__(self, name, age):\n",
        "        self.name = name\n",
        "        self.age = age\n",
        "        # Increment the count every time a new person is created\n",
        "        Person.total_persons += 1\n",
        "\n",
        "    # Class method to get the total number of persons\n",
        "    @classmethod\n",
        "    def get_total_persons(cls):\n",
        "        return cls.total_persons\n",
        "\n",
        "\n",
        "# Creating instances of Person\n",
        "person1 = Person(\"Alice\", 30)\n",
        "person2 = Person(\"Bob\", 25)\n",
        "person3 = Person(\"Charlie\", 35)\n",
        "\n",
        "# Getting the total number of persons created using the class method\n",
        "print(f\"Total persons created: {Person.get_total_persons()}\")\n"
      ],
      "metadata": {
        "colab": {
          "base_uri": "https://localhost:8080/"
        },
        "id": "2xneTZL4s1Af",
        "outputId": "860f28d5-9bc7-43e6-d09f-0e21d58a8192"
      },
      "execution_count": 8,
      "outputs": [
        {
          "output_type": "stream",
          "name": "stdout",
          "text": [
            "Total persons created: 3\n"
          ]
        }
      ]
    },
    {
      "cell_type": "code",
      "source": [
        "# practical question 9\n",
        "class Fraction:\n",
        "    def __init__(self, numerator, denominator):\n",
        "        self.numerator = numerator\n",
        "        self.denominator = denominator\n",
        "\n",
        "    # Overriding the __str__ method to return the fraction in \"numerator/denominator\" format\n",
        "    def __str__(self):\n",
        "        return f\"{self.numerator}/{self.denominator}\"\n",
        "\n",
        "# Creating a Fraction object\n",
        "fraction = Fraction(3, 4)\n",
        "\n",
        "# Printing the Fraction object\n",
        "print(fraction)\n"
      ],
      "metadata": {
        "colab": {
          "base_uri": "https://localhost:8080/"
        },
        "id": "XekoEClntH4j",
        "outputId": "4f79e207-e124-490e-ab27-a679bb573dce"
      },
      "execution_count": 9,
      "outputs": [
        {
          "output_type": "stream",
          "name": "stdout",
          "text": [
            "3/4\n"
          ]
        }
      ]
    },
    {
      "cell_type": "code",
      "source": [
        "# practical question 10\n",
        "class Vector:\n",
        "    def __init__(self, x, y):\n",
        "        self.x = x\n",
        "        self.y = y\n",
        "\n",
        "    # Overloading the '+' operator using the __add__ method\n",
        "    def __add__(self, other):\n",
        "        if isinstance(other, Vector):\n",
        "            # Adding corresponding components of two vectors\n",
        "            return Vector(self.x + other.x, self.y + other.y)\n",
        "        return NotImplemented\n",
        "\n",
        "    # Method to represent the vector as a string\n",
        "    def __str__(self):\n",
        "        return f\"({self.x}, {self.y})\"\n",
        "\n",
        "# Creating two Vector objects\n",
        "vector1 = Vector(2, 3)\n",
        "vector2 = Vector(4, 5)\n",
        "\n",
        "# Adding two vectors using the overloaded '+' operator\n",
        "result = vector1 + vector2\n",
        "\n",
        "# Printing the result\n",
        "print(f\"Vector 1: {vector1}\")\n",
        "print(f\"Vector 2: {vector2}\")\n",
        "print(f\"Result of addition: {result}\")\n"
      ],
      "metadata": {
        "colab": {
          "base_uri": "https://localhost:8080/"
        },
        "id": "wP6_do85tXOX",
        "outputId": "9bf2b4a1-44df-42da-9bc2-3998cef0a1f5"
      },
      "execution_count": 10,
      "outputs": [
        {
          "output_type": "stream",
          "name": "stdout",
          "text": [
            "Vector 1: (2, 3)\n",
            "Vector 2: (4, 5)\n",
            "Result of addition: (6, 8)\n"
          ]
        }
      ]
    },
    {
      "cell_type": "code",
      "source": [
        "# practical question 11\n",
        "class Person:\n",
        "    def __init__(self, name, age):\n",
        "        self.name = name\n",
        "        self.age = age\n",
        "\n",
        "    # Method to greet with a message\n",
        "    def greet(self):\n",
        "        print(f\"Hello, my name is {self.name} and I am {self.age} years old.\")\n",
        "\n",
        "# Creating a Person object\n",
        "person1 = Person(\"Tanmay\", 21)\n",
        "\n",
        "# Calling the greet method\n",
        "person1.greet()\n"
      ],
      "metadata": {
        "colab": {
          "base_uri": "https://localhost:8080/"
        },
        "id": "GbPgcb1htoZ-",
        "outputId": "7f21a6f8-d194-40b6-c023-c4cfa1082e66"
      },
      "execution_count": 11,
      "outputs": [
        {
          "output_type": "stream",
          "name": "stdout",
          "text": [
            "Hello, my name is Tanmay and I am 21 years old.\n"
          ]
        }
      ]
    },
    {
      "cell_type": "code",
      "source": [
        "# practical question 12\n",
        "class Student:\n",
        "    def __init__(self, name, grades):\n",
        "        self.name = name\n",
        "        self.grades = grades  # A list of grades\n",
        "\n",
        "    # Method to compute the average of the grades\n",
        "    def average_grade(self):\n",
        "        if self.grades:  # Ensure grades list is not empty\n",
        "            return sum(self.grades) / len(self.grades)\n",
        "        else:\n",
        "            return 0  # Return 0 if no grades are available\n",
        "\n",
        "# Creating a Student object\n",
        "student1 = Student(\"Tanmay\", [85, 90, 78, 92, 88])\n",
        "\n",
        "# Calling the average_grade method\n",
        "avg_grade = student1.average_grade()\n",
        "print(f\"{student1.name}'s average grade is: {avg_grade:.2f}\")\n"
      ],
      "metadata": {
        "colab": {
          "base_uri": "https://localhost:8080/"
        },
        "id": "wwlWhD4CuCLC",
        "outputId": "29783251-b600-4abd-8d65-82f7761a1344"
      },
      "execution_count": 12,
      "outputs": [
        {
          "output_type": "stream",
          "name": "stdout",
          "text": [
            "Tanmay's average grade is: 86.60\n"
          ]
        }
      ]
    },
    {
      "cell_type": "code",
      "source": [
        "# practical question 13\n",
        "class Rectangle:\n",
        "    def __init__(self):\n",
        "        self.length = 0\n",
        "        self.width = 0\n",
        "\n",
        "    # Method to set the dimensions of the rectangle\n",
        "    def set_dimensions(self, length, width):\n",
        "        self.length = length\n",
        "        self.width = width\n",
        "\n",
        "    # Method to calculate the area of the rectangle\n",
        "    def area(self):\n",
        "        return self.length * self.width\n",
        "\n",
        "# Creating a Rectangle object\n",
        "rect = Rectangle()\n",
        "\n",
        "# Setting the dimensions of the rectangle\n",
        "rect.set_dimensions(5, 3)\n",
        "\n",
        "# Calling the area method to calculate the area\n",
        "area = rect.area()\n",
        "print(f\"The area of the rectangle is: {area}\")\n"
      ],
      "metadata": {
        "colab": {
          "base_uri": "https://localhost:8080/"
        },
        "id": "agKFpKNauYAM",
        "outputId": "463f7bbd-e37f-44a1-81c2-a8b5288ccce8"
      },
      "execution_count": 13,
      "outputs": [
        {
          "output_type": "stream",
          "name": "stdout",
          "text": [
            "The area of the rectangle is: 15\n"
          ]
        }
      ]
    },
    {
      "cell_type": "code",
      "source": [
        "# practical question 14\n",
        "class Employee:\n",
        "    def __init__(self, name, hours_worked, hourly_rate):\n",
        "        self.name = name\n",
        "        self.hours_worked = hours_worked\n",
        "        self.hourly_rate = hourly_rate\n",
        "\n",
        "    # Method to calculate the salary\n",
        "    def calculate_salary(self):\n",
        "        return self.hours_worked * self.hourly_rate\n",
        "\n",
        "class Manager(Employee):\n",
        "    def __init__(self, name, hours_worked, hourly_rate, bonus):\n",
        "        super().__init__(name, hours_worked, hourly_rate)\n",
        "        self.bonus = bonus\n",
        "\n",
        "    # Overriding calculate_salary to include bonus\n",
        "    def calculate_salary(self):\n",
        "        base_salary = super().calculate_salary()\n",
        "        return base_salary + self.bonus\n",
        "\n",
        "# Creating an Employee object\n",
        "employee = Employee(\"Tanmay\", 160, 25)  # 160 hours worked, hourly rate of 25\n",
        "\n",
        "# Creating a Manager object\n",
        "manager = Manager(\"Ramesh\", 160, 30, 1000)  # 160 hours worked, hourly rate of 30, bonus of 1000\n",
        "\n",
        "# Calculating and printing salaries\n",
        "employee_salary = employee.calculate_salary()\n",
        "manager_salary = manager.calculate_salary()\n",
        "\n",
        "print(f\"Employee {employee.name}'s salary: Rs{employee_salary}\")\n",
        "print(f\"Manager {manager.name}'s salary: Rs{manager_salary}\")\n"
      ],
      "metadata": {
        "colab": {
          "base_uri": "https://localhost:8080/"
        },
        "id": "W61fUiLGup_k",
        "outputId": "867504c0-e495-4de9-abd7-0f1562d008dc"
      },
      "execution_count": 15,
      "outputs": [
        {
          "output_type": "stream",
          "name": "stdout",
          "text": [
            "Employee Tanmay's salary: Rs4000\n",
            "Manager Ramesh's salary: Rs5800\n"
          ]
        }
      ]
    },
    {
      "cell_type": "code",
      "source": [
        "# practical question 15\n",
        "class Product:\n",
        "    def __init__(self, name, price, quantity):\n",
        "        self.name = name\n",
        "        self.price = price\n",
        "        self.quantity = quantity\n",
        "\n",
        "    # Method to calculate the total price of the product\n",
        "    def total_price(self):\n",
        "        return self.price * self.quantity\n",
        "\n",
        "# Creating a Product object\n",
        "product = Product(\"Laptop\", 10000, 3)\n",
        "\n",
        "# Calculating and printing the total price\n",
        "total = product.total_price()\n",
        "print(f\"The total price of {product.name} is: Rs{total}\")\n"
      ],
      "metadata": {
        "colab": {
          "base_uri": "https://localhost:8080/"
        },
        "id": "hd30AFA7vOS-",
        "outputId": "2c496667-ee03-4056-c1f0-7731d67a29eb"
      },
      "execution_count": 16,
      "outputs": [
        {
          "output_type": "stream",
          "name": "stdout",
          "text": [
            "The total price of Laptop is: Rs30000\n"
          ]
        }
      ]
    },
    {
      "cell_type": "code",
      "source": [
        "# practical question 16\n",
        "from abc import ABC, abstractmethod\n",
        "\n",
        "# Abstract class Animal\n",
        "class Animal(ABC):\n",
        "    @abstractmethod\n",
        "    def sound(self):\n",
        "        pass\n",
        "\n",
        "# Derived class Cow\n",
        "class Cow(Animal):\n",
        "    def sound(self):\n",
        "        return \"Moo\"\n",
        "\n",
        "# Derived class Sheep\n",
        "class Sheep(Animal):\n",
        "    def sound(self):\n",
        "        return \"Baa\"\n",
        "\n",
        "# Creating instances of Cow and Sheep\n",
        "cow = Cow()\n",
        "sheep = Sheep()\n",
        "\n",
        "# Calling the sound method on both objects\n",
        "print(f\"Cow sound: {cow.sound()}\")\n",
        "print(f\"Sheep sound: {sheep.sound()}\")\n"
      ],
      "metadata": {
        "colab": {
          "base_uri": "https://localhost:8080/"
        },
        "id": "SMNLDW2jvyE7",
        "outputId": "67803356-8598-4d84-9b5e-684e684aeeae"
      },
      "execution_count": 17,
      "outputs": [
        {
          "output_type": "stream",
          "name": "stdout",
          "text": [
            "Cow sound: Moo\n",
            "Sheep sound: Baa\n"
          ]
        }
      ]
    },
    {
      "cell_type": "code",
      "source": [
        "# practical question 17\n",
        "class Book:\n",
        "    def __init__(self, title, author, year_published):\n",
        "        self.title = title\n",
        "        self.author = author\n",
        "        self.year_published = year_published\n",
        "\n",
        "    # Method to return a formatted string with book details\n",
        "    def get_book_info(self):\n",
        "        return f\"Title: {self.title}\\nAuthor: {self.author}\\nYear Published: {self.year_published}\"\n",
        "\n",
        "# Creating a Book object\n",
        "book1 = Book(\"1984\", \"George Orwell\", 1949)\n",
        "\n",
        "# Calling the get_book_info method to display book details\n",
        "book_info = book1.get_book_info()\n",
        "print(book_info)\n"
      ],
      "metadata": {
        "colab": {
          "base_uri": "https://localhost:8080/"
        },
        "id": "yOdW-sf9wdBw",
        "outputId": "d42fcda9-5656-4711-d25e-3e9ef79b77d5"
      },
      "execution_count": 18,
      "outputs": [
        {
          "output_type": "stream",
          "name": "stdout",
          "text": [
            "Title: 1984\n",
            "Author: George Orwell\n",
            "Year Published: 1949\n"
          ]
        }
      ]
    },
    {
      "cell_type": "code",
      "source": [
        "# practical question 18\n",
        "# Base class House\n",
        "class House:\n",
        "    def __init__(self, address, price):\n",
        "        self.address = address\n",
        "        self.price = price\n",
        "\n",
        "    # Method to return house details\n",
        "    def get_house_info(self):\n",
        "        return f\"Address: {self.address}\\nPrice: Rs{self.price}\"\n",
        "\n",
        "# Derived class Mansion\n",
        "class Mansion(House):\n",
        "    def __init__(self, address, price, number_of_rooms):\n",
        "        super().__init__(address, price)\n",
        "        self.number_of_rooms = number_of_rooms\n",
        "\n",
        "    # Method to return mansion details, including number of rooms\n",
        "    def get_mansion_info(self):\n",
        "        house_info = super().get_house_info()\n",
        "        return f\"{house_info}\\nNumber of Rooms: {self.number_of_rooms}\"\n",
        "\n",
        "# Creating a House object\n",
        "house = House(\"123 Elm Street\", 300000)\n",
        "\n",
        "# Creating a Mansion object\n",
        "mansion = Mansion(\"456 Oak Avenue\", 1500000, 10)\n",
        "\n",
        "# Printing house and mansion details\n",
        "print(\"House Info:\")\n",
        "print(house.get_house_info())\n",
        "\n",
        "print(\"\\nMansion Info:\")\n",
        "print(mansion.get_mansion_info())\n"
      ],
      "metadata": {
        "colab": {
          "base_uri": "https://localhost:8080/"
        },
        "id": "CiMnkH9ewsur",
        "outputId": "3168d513-b20b-4267-b0e7-8739ea35a577"
      },
      "execution_count": 20,
      "outputs": [
        {
          "output_type": "stream",
          "name": "stdout",
          "text": [
            "House Info:\n",
            "Address: 123 Elm Street\n",
            "Price: Rs300000\n",
            "\n",
            "Mansion Info:\n",
            "Address: 456 Oak Avenue\n",
            "Price: Rs1500000\n",
            "Number of Rooms: 10\n"
          ]
        }
      ]
    },
    {
      "cell_type": "code",
      "source": [],
      "metadata": {
        "id": "cUlZQywIw7ej"
      },
      "execution_count": null,
      "outputs": []
    }
  ]
}